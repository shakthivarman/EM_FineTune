{
  "nbformat": 4,
  "nbformat_minor": 0,
  "metadata": {
    "colab": {
      "provenance": [],
      "gpuType": "T4",
      "include_colab_link": true
    },
    "kernelspec": {
      "name": "python3",
      "display_name": "Python 3"
    },
    "language_info": {
      "name": "python"
    },
    "accelerator": "GPU"
  },
  "cells": [
    {
      "cell_type": "markdown",
      "metadata": {
        "id": "view-in-github",
        "colab_type": "text"
      },
      "source": [
        "<a href=\"https://colab.research.google.com/github/shakthivarman/EM_FineTune/blob/main/Image_Segmentation_with_Pixellib.ipynb\" target=\"_parent\"><img src=\"https://colab.research.google.com/assets/colab-badge.svg\" alt=\"Open In Colab\"/></a>"
      ]
    },
    {
      "cell_type": "markdown",
      "source": [
        "# Image Segmentation using Pixellib"
      ],
      "metadata": {
        "id": "hpHQTMB0Dl1-"
      }
    },
    {
      "cell_type": "markdown",
      "source": [
        "**Youtube tutorial:** https://www.youtube.com/watch?v=FO-tjmtw5J4\n",
        "\n",
        "**Medium Article** https://towardsdatascience.com/real-time-image-segmentation-using-5-lines-of-code-7c480abdb835\n",
        "\n",
        "**Model release that can be downloaded from here:** https://github.com/ayoolaolafenwa/PixelLib/releases\n",
        "\n",
        "**Requirements:**\n",
        "*  numpy\n",
        "* pillow\n",
        "* scipy\n",
        "* opencv-python\n",
        "* scikit-image\n",
        "* tensorflow\n",
        "* imgaug\n",
        "* matplotlib\n",
        "* labelme2coco"
      ],
      "metadata": {
        "id": "v6u1IVxYIT0d"
      }
    },
    {
      "cell_type": "code",
      "source": [
        "pip install pycocotools --quiet"
      ],
      "metadata": {
        "id": "saJToq10Dore"
      },
      "execution_count": null,
      "outputs": []
    },
    {
      "cell_type": "code",
      "source": [
        "pip install --upgrade pixellib --quiet"
      ],
      "metadata": {
        "id": "4qkxOSlgFVJH",
        "colab": {
          "base_uri": "https://localhost:8080/"
        },
        "outputId": "709d68b0-d055-4801-9636-c6bb4b167607",
        "collapsed": true
      },
      "execution_count": null,
      "outputs": [
        {
          "output_type": "stream",
          "name": "stdout",
          "text": [
            "\u001b[2K     \u001b[90m━━━━━━━━━━━━━━━━━━━━━━━━━━━━━━━━━━━━━━━━\u001b[0m \u001b[32m430.3/430.3 kB\u001b[0m \u001b[31m3.5 MB/s\u001b[0m eta \u001b[36m0:00:00\u001b[0m\n",
            "\u001b[?25h  Preparing metadata (setup.py) ... \u001b[?25l\u001b[?25hdone\n",
            "\u001b[2K     \u001b[90m━━━━━━━━━━━━━━━━━━━━━━━━━━━━━━━━━━━━━━━━\u001b[0m \u001b[32m8.2/8.2 MB\u001b[0m \u001b[31m44.5 MB/s\u001b[0m eta \u001b[36m0:00:00\u001b[0m\n",
            "\u001b[2K     \u001b[90m━━━━━━━━━━━━━━━━━━━━━━━━━━━━━━━━━━━━━━━━\u001b[0m \u001b[32m50.2/50.2 kB\u001b[0m \u001b[31m6.6 MB/s\u001b[0m eta \u001b[36m0:00:00\u001b[0m\n",
            "\u001b[?25h  Preparing metadata (setup.py) ... \u001b[?25l\u001b[?25hdone\n",
            "\u001b[2K     \u001b[90m━━━━━━━━━━━━━━━━━━━━━━━━━━━━━━━━━━━━━━━━\u001b[0m \u001b[32m42.2/42.2 kB\u001b[0m \u001b[31m3.7 MB/s\u001b[0m eta \u001b[36m0:00:00\u001b[0m\n",
            "\u001b[?25h  Preparing metadata (setup.py) ... \u001b[?25l\u001b[?25hdone\n",
            "\u001b[2K     \u001b[90m━━━━━━━━━━━━━━━━━━━━━━━━━━━━━━━━━━━━━━━━\u001b[0m \u001b[32m79.5/79.5 kB\u001b[0m \u001b[31m7.5 MB/s\u001b[0m eta \u001b[36m0:00:00\u001b[0m\n",
            "\u001b[2K     \u001b[90m━━━━━━━━━━━━━━━━━━━━━━━━━━━━━━━━━━━━━━━━\u001b[0m \u001b[32m154.5/154.5 kB\u001b[0m \u001b[31m19.3 MB/s\u001b[0m eta \u001b[36m0:00:00\u001b[0m\n",
            "\u001b[2K     \u001b[90m━━━━━━━━━━━━━━━━━━━━━━━━━━━━━━━━━━━━━━━━\u001b[0m \u001b[32m1.7/1.7 MB\u001b[0m \u001b[31m56.5 MB/s\u001b[0m eta \u001b[36m0:00:00\u001b[0m\n",
            "\u001b[2K     \u001b[90m━━━━━━━━━━━━━━━━━━━━━━━━━━━━━━━━━━━━━━━━\u001b[0m \u001b[32m117.0/117.0 kB\u001b[0m \u001b[31m14.4 MB/s\u001b[0m eta \u001b[36m0:00:00\u001b[0m\n",
            "\u001b[?25h  Preparing metadata (setup.py) ... \u001b[?25l\u001b[?25hdone\n",
            "\u001b[2K     \u001b[90m━━━━━━━━━━━━━━━━━━━━━━━━━━━━━━━━━━━━━━━━\u001b[0m \u001b[32m105.4/105.4 kB\u001b[0m \u001b[31m4.6 MB/s\u001b[0m eta \u001b[36m0:00:00\u001b[0m\n",
            "\u001b[2K     \u001b[90m━━━━━━━━━━━━━━━━━━━━━━━━━━━━━━━━━━━━━━━━\u001b[0m \u001b[32m338.1/338.1 kB\u001b[0m \u001b[31m34.3 MB/s\u001b[0m eta \u001b[36m0:00:00\u001b[0m\n",
            "\u001b[2K     \u001b[90m━━━━━━━━━━━━━━━━━━━━━━━━━━━━━━━━━━━━━━━━\u001b[0m \u001b[32m59.9/59.9 MB\u001b[0m \u001b[31m10.4 MB/s\u001b[0m eta \u001b[36m0:00:00\u001b[0m\n",
            "\u001b[2K     \u001b[90m━━━━━━━━━━━━━━━━━━━━━━━━━━━━━━━━━━━━━━━━\u001b[0m \u001b[32m61.8/61.8 MB\u001b[0m \u001b[31m10.4 MB/s\u001b[0m eta \u001b[36m0:00:00\u001b[0m\n",
            "\u001b[2K     \u001b[90m━━━━━━━━━━━━━━━━━━━━━━━━━━━━━━━━━━━━━━━━\u001b[0m \u001b[32m88.3/88.3 kB\u001b[0m \u001b[31m12.7 MB/s\u001b[0m eta \u001b[36m0:00:00\u001b[0m\n",
            "\u001b[?25h  Preparing metadata (setup.py) ... \u001b[?25l\u001b[?25hdone\n",
            "  Building wheel for fvcore (setup.py) ... \u001b[?25l\u001b[?25hdone\n",
            "  Building wheel for iopath (setup.py) ... \u001b[?25l\u001b[?25hdone\n",
            "  Building wheel for antlr4-python3-runtime (setup.py) ... \u001b[?25l\u001b[?25hdone\n",
            "  Building wheel for imantics (setup.py) ... \u001b[?25l\u001b[?25hdone\n",
            "  Building wheel for fire (setup.py) ... \u001b[?25l\u001b[?25hdone\n"
          ]
        }
      ]
    },
    {
      "cell_type": "code",
      "source": [
        "pip show pixellib torch"
      ],
      "metadata": {
        "id": "0u-fcERRel6D"
      },
      "execution_count": null,
      "outputs": []
    },
    {
      "cell_type": "code",
      "source": [
        "import pixellib"
      ],
      "metadata": {
        "id": "ItAg0X9uFVNJ"
      },
      "execution_count": null,
      "outputs": []
    },
    {
      "cell_type": "code",
      "source": [
        "import torch\n",
        "print(torch.__version__)"
      ],
      "metadata": {
        "colab": {
          "base_uri": "https://localhost:8080/"
        },
        "id": "QhT7otpELX5y",
        "outputId": "6bd606a8-bd04-4004-bd2a-809df55ce30a"
      },
      "execution_count": null,
      "outputs": [
        {
          "output_type": "stream",
          "name": "stdout",
          "text": [
            "2.1.0+cu121\n"
          ]
        }
      ]
    },
    {
      "cell_type": "code",
      "source": [
        "from pixellib.torchbackend.instance import instanceSegmentation"
      ],
      "metadata": {
        "id": "2tDkbh_yFVQx"
      },
      "execution_count": null,
      "outputs": []
    },
    {
      "cell_type": "code",
      "source": [
        "ins = instanceSegmentation()"
      ],
      "metadata": {
        "id": "6AjJTiA8FVUp"
      },
      "execution_count": null,
      "outputs": []
    },
    {
      "cell_type": "code",
      "source": [
        "ins.load_model('https://github.com/ayoolaolafenwa/PixelLib/releases/download/0.2.0/pointrend_resnet101.pkl', network_backbone = \"resnet101\")"
      ],
      "metadata": {
        "id": "pBzNyKOYp0Pd"
      },
      "execution_count": null,
      "outputs": []
    },
    {
      "cell_type": "code",
      "source": [
        "ins.load_model('https://github.com/ayoolaolafenwa/PixelLib/releases/download/0.2.0/pointrend_resnet50.pkl')"
      ],
      "metadata": {
        "colab": {
          "base_uri": "https://localhost:8080/"
        },
        "id": "n4leiPmgQ__R",
        "outputId": "62592412-2df0-460f-d855-0c98e82d6eb8"
      },
      "execution_count": null,
      "outputs": [
        {
          "output_type": "stream",
          "name": "stderr",
          "text": [
            "pointrend_resnet50.pkl: 241MB [00:01, 189MB/s]                           \n",
            "WARNING:fvcore.common.checkpoint:The checkpoint state_dict contains keys that are not used by the model:\n",
            "  proposal_generator.anchor_generator.cell_anchors.{0, 1, 2, 3, 4}\n"
          ]
        }
      ]
    },
    {
      "cell_type": "code",
      "source": [
        "target_classes = ins.select_target_classes(person = True)"
      ],
      "metadata": {
        "id": "hTeS5t12q08d"
      },
      "execution_count": null,
      "outputs": []
    },
    {
      "cell_type": "code",
      "source": [
        "ins.segmentImage(\"019.jpg\", show_bboxes=True, segment_target_classes = target_classes, output_image_name=\"output_019.jpg\")"
      ],
      "metadata": {
        "id": "lcqdYu2RJQK4"
      },
      "execution_count": null,
      "outputs": []
    },
    {
      "cell_type": "markdown",
      "source": [
        "# Video Segmentation using Pixellib"
      ],
      "metadata": {
        "id": "5L4CNZ3mzgv4"
      }
    },
    {
      "cell_type": "code",
      "source": [
        "from google.colab import drive\n",
        "drive.mount('/content/drive')"
      ],
      "metadata": {
        "colab": {
          "base_uri": "https://localhost:8080/"
        },
        "id": "vmVnB0poqTeg",
        "outputId": "d66b713b-c9f8-44bf-a5fa-fda9afdddd43"
      },
      "execution_count": null,
      "outputs": [
        {
          "output_type": "stream",
          "name": "stdout",
          "text": [
            "Mounted at /content/drive\n"
          ]
        }
      ]
    },
    {
      "cell_type": "code",
      "source": [
        "import os\n",
        "print(os.listdir(\"/content/drive/My Drive/\"))"
      ],
      "metadata": {
        "colab": {
          "base_uri": "https://localhost:8080/"
        },
        "id": "LwG--4MDqUjw",
        "outputId": "d81ea566-91bc-44cc-bde2-ab79111036a1"
      },
      "execution_count": null,
      "outputs": [
        {
          "output_type": "stream",
          "name": "stdout",
          "text": [
            "['Colab Notebooks', 'drone', '.ipynb_checkpoints', 'mask_rcnn_coco.h5', 'train.json']\n"
          ]
        }
      ]
    },
    {
      "cell_type": "code",
      "source": [
        "from pixellib.torchbackend.instance import instanceSegmentation"
      ],
      "metadata": {
        "id": "L6HnbvglJSIX"
      },
      "execution_count": null,
      "outputs": []
    },
    {
      "cell_type": "code",
      "source": [
        "ins = instanceSegmentation()"
      ],
      "metadata": {
        "id": "nV7_E0K5L-6j"
      },
      "execution_count": null,
      "outputs": []
    },
    {
      "cell_type": "code",
      "source": [
        "target_classes = ins.select_target_classes(person = True)"
      ],
      "metadata": {
        "id": "U46RpGziJVpG"
      },
      "execution_count": null,
      "outputs": []
    },
    {
      "cell_type": "code",
      "source": [
        "ins.load_model('https://github.com/ayoolaolafenwa/PixelLib/releases/download/0.2.0/pointrend_resnet50.pkl')"
      ],
      "metadata": {
        "colab": {
          "base_uri": "https://localhost:8080/"
        },
        "id": "TJX8G2nCJDkW",
        "outputId": "f8fda6af-d356-406f-a834-bd98929162d2"
      },
      "execution_count": null,
      "outputs": [
        {
          "output_type": "stream",
          "name": "stderr",
          "text": [
            "WARNING:fvcore.common.checkpoint:The checkpoint state_dict contains keys that are not used by the model:\n",
            "  proposal_generator.anchor_generator.cell_anchors.{0, 1, 2, 3, 4}\n"
          ]
        }
      ]
    },
    {
      "cell_type": "code",
      "source": [
        "ins.process_video(\"IntelHackathon.mp4\", show_bboxes=True, segment_target_classes=target_classes, frames_per_second=3, output_video_name=\"output_video.mp4\")"
      ],
      "metadata": {
        "id": "l2VI9ZBozlNe",
        "colab": {
          "base_uri": "https://localhost:8080/"
        },
        "outputId": "9339da82-917f-4fbe-c9c3-93c5b1659c74",
        "collapsed": true
      },
      "execution_count": null,
      "outputs": [
        {
          "output_type": "stream",
          "name": "stdout",
          "text": [
            "No. of frames: 1\n",
            "No. of frames: 2\n",
            "No. of frames: 3\n",
            "No. of frames: 4\n",
            "No. of frames: 5\n",
            "No. of frames: 6\n",
            "No. of frames: 7\n",
            "No. of frames: 8\n",
            "No. of frames: 9\n",
            "No. of frames: 10\n",
            "No. of frames: 11\n",
            "No. of frames: 12\n",
            "No. of frames: 13\n",
            "No. of frames: 14\n",
            "No. of frames: 15\n",
            "No. of frames: 16\n",
            "No. of frames: 17\n",
            "No. of frames: 18\n",
            "No. of frames: 19\n",
            "No. of frames: 20\n",
            "No. of frames: 21\n",
            "No. of frames: 22\n",
            "No. of frames: 23\n",
            "No. of frames: 24\n",
            "No. of frames: 25\n",
            "No. of frames: 26\n",
            "No. of frames: 27\n",
            "No. of frames: 28\n",
            "No. of frames: 29\n",
            "No. of frames: 30\n",
            "No. of frames: 31\n",
            "No. of frames: 32\n",
            "No. of frames: 33\n",
            "No. of frames: 34\n",
            "No. of frames: 35\n",
            "No. of frames: 36\n",
            "No. of frames: 37\n",
            "No. of frames: 38\n",
            "No. of frames: 39\n",
            "No. of frames: 40\n",
            "No. of frames: 41\n",
            "No. of frames: 42\n",
            "No. of frames: 43\n",
            "No. of frames: 44\n",
            "No. of frames: 45\n",
            "No. of frames: 46\n",
            "No. of frames: 47\n",
            "No. of frames: 48\n",
            "No. of frames: 49\n",
            "No. of frames: 50\n",
            "No. of frames: 51\n",
            "No. of frames: 52\n",
            "No. of frames: 53\n",
            "No. of frames: 54\n",
            "No. of frames: 55\n",
            "No. of frames: 56\n",
            "No. of frames: 57\n",
            "No. of frames: 58\n",
            "No. of frames: 59\n",
            "No. of frames: 60\n",
            "No. of frames: 61\n",
            "No. of frames: 62\n",
            "No. of frames: 63\n",
            "No. of frames: 64\n",
            "No. of frames: 65\n",
            "No. of frames: 66\n",
            "No. of frames: 67\n",
            "No. of frames: 68\n",
            "No. of frames: 69\n",
            "No. of frames: 70\n",
            "No. of frames: 71\n",
            "No. of frames: 72\n",
            "No. of frames: 73\n",
            "No. of frames: 74\n",
            "No. of frames: 75\n",
            "No. of frames: 76\n",
            "No. of frames: 77\n",
            "No. of frames: 78\n",
            "No. of frames: 79\n",
            "No. of frames: 80\n",
            "No. of frames: 81\n",
            "No. of frames: 82\n",
            "No. of frames: 83\n",
            "No. of frames: 84\n",
            "No. of frames: 85\n",
            "No. of frames: 86\n",
            "No. of frames: 87\n",
            "No. of frames: 88\n",
            "No. of frames: 89\n",
            "No. of frames: 90\n",
            "No. of frames: 91\n",
            "No. of frames: 92\n",
            "No. of frames: 93\n",
            "No. of frames: 94\n",
            "No. of frames: 95\n",
            "No. of frames: 96\n",
            "No. of frames: 97\n",
            "No. of frames: 98\n",
            "No. of frames: 99\n",
            "No. of frames: 100\n",
            "No. of frames: 101\n",
            "No. of frames: 102\n",
            "No. of frames: 103\n",
            "No. of frames: 104\n",
            "No. of frames: 105\n",
            "No. of frames: 106\n",
            "No. of frames: 107\n",
            "No. of frames: 108\n",
            "No. of frames: 109\n",
            "No. of frames: 110\n",
            "No. of frames: 111\n",
            "No. of frames: 112\n",
            "No. of frames: 113\n",
            "No. of frames: 114\n",
            "No. of frames: 115\n",
            "No. of frames: 116\n",
            "No. of frames: 117\n",
            "No. of frames: 118\n",
            "No. of frames: 119\n",
            "No. of frames: 120\n",
            "No. of frames: 121\n",
            "No. of frames: 122\n",
            "No. of frames: 123\n",
            "No. of frames: 124\n",
            "No. of frames: 125\n",
            "No. of frames: 126\n",
            "No. of frames: 127\n",
            "No. of frames: 128\n",
            "No. of frames: 129\n",
            "No. of frames: 130\n",
            "No. of frames: 131\n",
            "No. of frames: 132\n",
            "No. of frames: 133\n",
            "No. of frames: 134\n",
            "No. of frames: 135\n",
            "No. of frames: 136\n",
            "No. of frames: 137\n",
            "No. of frames: 138\n",
            "No. of frames: 139\n",
            "No. of frames: 140\n",
            "No. of frames: 141\n",
            "No. of frames: 142\n",
            "No. of frames: 143\n",
            "No. of frames: 144\n",
            "No. of frames: 145\n",
            "No. of frames: 146\n",
            "No. of frames: 147\n",
            "No. of frames: 148\n",
            "No. of frames: 149\n",
            "No. of frames: 150\n",
            "No. of frames: 151\n",
            "No. of frames: 152\n",
            "No. of frames: 153\n",
            "No. of frames: 154\n",
            "No. of frames: 155\n",
            "No. of frames: 156\n",
            "No. of frames: 157\n",
            "No. of frames: 158\n",
            "No. of frames: 159\n",
            "No. of frames: 160\n",
            "No. of frames: 161\n",
            "No. of frames: 162\n",
            "No. of frames: 163\n",
            "No. of frames: 164\n",
            "No. of frames: 165\n",
            "No. of frames: 166\n",
            "No. of frames: 167\n",
            "No. of frames: 168\n",
            "No. of frames: 169\n",
            "No. of frames: 170\n",
            "No. of frames: 171\n",
            "No. of frames: 172\n",
            "No. of frames: 173\n",
            "No. of frames: 174\n",
            "No. of frames: 175\n",
            "No. of frames: 176\n",
            "No. of frames: 177\n",
            "No. of frames: 178\n",
            "No. of frames: 179\n",
            "No. of frames: 180\n",
            "No. of frames: 181\n",
            "No. of frames: 182\n",
            "No. of frames: 183\n",
            "No. of frames: 184\n",
            "No. of frames: 185\n",
            "No. of frames: 186\n",
            "No. of frames: 187\n",
            "No. of frames: 188\n",
            "No. of frames: 189\n",
            "No. of frames: 190\n",
            "No. of frames: 191\n",
            "No. of frames: 192\n",
            "No. of frames: 193\n",
            "No. of frames: 194\n",
            "No. of frames: 195\n",
            "No. of frames: 196\n",
            "No. of frames: 197\n",
            "No. of frames: 198\n",
            "No. of frames: 199\n",
            "No. of frames: 200\n",
            "No. of frames: 201\n",
            "No. of frames: 202\n",
            "No. of frames: 203\n",
            "No. of frames: 204\n",
            "No. of frames: 205\n",
            "No. of frames: 206\n",
            "No. of frames: 207\n",
            "No. of frames: 208\n",
            "No. of frames: 209\n",
            "No. of frames: 210\n",
            "No. of frames: 211\n",
            "No. of frames: 212\n",
            "No. of frames: 213\n",
            "No. of frames: 214\n",
            "No. of frames: 215\n",
            "No. of frames: 216\n",
            "No. of frames: 217\n",
            "No. of frames: 218\n",
            "No. of frames: 219\n",
            "No. of frames: 220\n",
            "No. of frames: 221\n",
            "No. of frames: 222\n",
            "No. of frames: 223\n",
            "No. of frames: 224\n",
            "No. of frames: 225\n",
            "No. of frames: 226\n",
            "No. of frames: 227\n",
            "No. of frames: 228\n",
            "No. of frames: 229\n",
            "No. of frames: 230\n",
            "No. of frames: 231\n",
            "No. of frames: 232\n",
            "No. of frames: 233\n",
            "No. of frames: 234\n",
            "No. of frames: 235\n",
            "No. of frames: 236\n",
            "No. of frames: 237\n",
            "No. of frames: 238\n",
            "No. of frames: 239\n",
            "No. of frames: 240\n",
            "No. of frames: 241\n",
            "No. of frames: 242\n",
            "No. of frames: 243\n",
            "No. of frames: 244\n",
            "No. of frames: 245\n",
            "No. of frames: 246\n",
            "No. of frames: 247\n",
            "No. of frames: 248\n",
            "No. of frames: 249\n",
            "No. of frames: 250\n",
            "No. of frames: 251\n",
            "No. of frames: 252\n",
            "No. of frames: 253\n",
            "No. of frames: 254\n",
            "No. of frames: 255\n",
            "No. of frames: 256\n",
            "No. of frames: 257\n",
            "No. of frames: 258\n",
            "No. of frames: 259\n",
            "No. of frames: 260\n",
            "No. of frames: 261\n",
            "No. of frames: 262\n",
            "No. of frames: 263\n",
            "No. of frames: 264\n",
            "No. of frames: 265\n",
            "No. of frames: 266\n",
            "No. of frames: 267\n",
            "No. of frames: 268\n",
            "No. of frames: 269\n",
            "No. of frames: 270\n",
            "No. of frames: 271\n",
            "No. of frames: 272\n",
            "No. of frames: 273\n",
            "No. of frames: 274\n",
            "No. of frames: 275\n",
            "No. of frames: 276\n",
            "No. of frames: 277\n",
            "No. of frames: 278\n",
            "No. of frames: 279\n",
            "No. of frames: 280\n",
            "No. of frames: 281\n",
            "No. of frames: 282\n",
            "No. of frames: 283\n",
            "No. of frames: 284\n",
            "No. of frames: 285\n",
            "No. of frames: 286\n",
            "No. of frames: 287\n",
            "No. of frames: 288\n",
            "No. of frames: 289\n",
            "No. of frames: 290\n",
            "No. of frames: 291\n",
            "No. of frames: 292\n",
            "No. of frames: 293\n",
            "No. of frames: 294\n",
            "No. of frames: 295\n",
            "No. of frames: 296\n",
            "No. of frames: 297\n",
            "No. of frames: 298\n",
            "No. of frames: 299\n",
            "No. of frames: 300\n",
            "No. of frames: 301\n",
            "No. of frames: 302\n",
            "No. of frames: 303\n",
            "No. of frames: 304\n",
            "No. of frames: 305\n",
            "No. of frames: 306\n",
            "No. of frames: 307\n",
            "No. of frames: 308\n",
            "No. of frames: 309\n",
            "No. of frames: 310\n",
            "No. of frames: 311\n",
            "No. of frames: 312\n",
            "No. of frames: 313\n",
            "No. of frames: 314\n",
            "No. of frames: 315\n",
            "No. of frames: 316\n",
            "No. of frames: 317\n",
            "No. of frames: 318\n",
            "No. of frames: 319\n",
            "No. of frames: 320\n",
            "No. of frames: 321\n",
            "No. of frames: 322\n",
            "No. of frames: 323\n",
            "No. of frames: 324\n",
            "No. of frames: 325\n",
            "No. of frames: 326\n",
            "No. of frames: 327\n",
            "No. of frames: 328\n",
            "No. of frames: 329\n",
            "No. of frames: 330\n",
            "No. of frames: 331\n",
            "No. of frames: 332\n",
            "No. of frames: 333\n",
            "No. of frames: 334\n",
            "No. of frames: 335\n",
            "No. of frames: 336\n",
            "No. of frames: 337\n",
            "No. of frames: 338\n",
            "No. of frames: 339\n",
            "No. of frames: 340\n",
            "No. of frames: 341\n",
            "No. of frames: 342\n",
            "No. of frames: 343\n",
            "No. of frames: 344\n",
            "No. of frames: 345\n",
            "No. of frames: 346\n",
            "No. of frames: 347\n",
            "No. of frames: 348\n",
            "No. of frames: 349\n",
            "No. of frames: 350\n",
            "No. of frames: 351\n",
            "No. of frames: 352\n",
            "No. of frames: 353\n",
            "No. of frames: 354\n",
            "No. of frames: 355\n",
            "No. of frames: 356\n",
            "No. of frames: 357\n",
            "No. of frames: 358\n",
            "No. of frames: 359\n",
            "No. of frames: 360\n",
            "No. of frames: 361\n",
            "No. of frames: 362\n",
            "No. of frames: 363\n",
            "No. of frames: 364\n",
            "No. of frames: 365\n",
            "No. of frames: 366\n",
            "No. of frames: 367\n",
            "No. of frames: 368\n",
            "No. of frames: 369\n",
            "No. of frames: 370\n",
            "No. of frames: 371\n",
            "No. of frames: 372\n",
            "No. of frames: 373\n",
            "No. of frames: 374\n",
            "No. of frames: 375\n",
            "No. of frames: 376\n",
            "No. of frames: 377\n",
            "No. of frames: 378\n",
            "No. of frames: 379\n",
            "No. of frames: 380\n",
            "No. of frames: 381\n",
            "No. of frames: 382\n",
            "No. of frames: 383\n",
            "No. of frames: 384\n",
            "No. of frames: 385\n",
            "No. of frames: 386\n",
            "No. of frames: 387\n",
            "No. of frames: 388\n",
            "No. of frames: 389\n",
            "No. of frames: 390\n",
            "No. of frames: 391\n",
            "No. of frames: 392\n",
            "No. of frames: 393\n",
            "No. of frames: 394\n",
            "No. of frames: 395\n",
            "No. of frames: 396\n",
            "No. of frames: 397\n",
            "No. of frames: 398\n",
            "No. of frames: 399\n",
            "No. of frames: 400\n",
            "No. of frames: 401\n",
            "No. of frames: 402\n",
            "No. of frames: 403\n",
            "No. of frames: 404\n",
            "No. of frames: 405\n",
            "No. of frames: 406\n",
            "No. of frames: 407\n",
            "No. of frames: 408\n",
            "No. of frames: 409\n",
            "No. of frames: 410\n",
            "No. of frames: 411\n",
            "No. of frames: 412\n",
            "No. of frames: 413\n",
            "No. of frames: 414\n",
            "No. of frames: 415\n",
            "No. of frames: 416\n",
            "No. of frames: 417\n",
            "No. of frames: 418\n",
            "No. of frames: 419\n",
            "No. of frames: 420\n",
            "No. of frames: 421\n",
            "No. of frames: 422\n",
            "No. of frames: 423\n",
            "No. of frames: 424\n",
            "No. of frames: 425\n",
            "No. of frames: 426\n",
            "No. of frames: 427\n",
            "No. of frames: 428\n",
            "No. of frames: 429\n",
            "No. of frames: 430\n",
            "No. of frames: 431\n",
            "No. of frames: 432\n",
            "No. of frames: 433\n",
            "No. of frames: 434\n",
            "No. of frames: 435\n",
            "No. of frames: 436\n",
            "No. of frames: 437\n",
            "No. of frames: 438\n",
            "No. of frames: 439\n",
            "No. of frames: 440\n",
            "No. of frames: 441\n",
            "No. of frames: 442\n",
            "No. of frames: 443\n",
            "No. of frames: 444\n",
            "No. of frames: 445\n",
            "No. of frames: 446\n",
            "No. of frames: 447\n",
            "No. of frames: 448\n",
            "No. of frames: 449\n",
            "No. of frames: 450\n",
            "No. of frames: 451\n",
            "No. of frames: 452\n",
            "No. of frames: 453\n",
            "No. of frames: 454\n",
            "No. of frames: 455\n",
            "No. of frames: 456\n",
            "No. of frames: 457\n",
            "No. of frames: 458\n",
            "No. of frames: 459\n",
            "No. of frames: 460\n",
            "No. of frames: 461\n",
            "No. of frames: 462\n",
            "No. of frames: 463\n",
            "No. of frames: 464\n",
            "No. of frames: 465\n",
            "No. of frames: 466\n",
            "No. of frames: 467\n",
            "No. of frames: 468\n",
            "No. of frames: 469\n",
            "No. of frames: 470\n",
            "No. of frames: 471\n",
            "No. of frames: 472\n",
            "No. of frames: 473\n",
            "No. of frames: 474\n",
            "No. of frames: 475\n",
            "No. of frames: 476\n",
            "No. of frames: 477\n",
            "No. of frames: 478\n",
            "No. of frames: 479\n",
            "No. of frames: 480\n",
            "No. of frames: 481\n",
            "No. of frames: 482\n",
            "No. of frames: 483\n",
            "No. of frames: 484\n",
            "No. of frames: 485\n",
            "No. of frames: 486\n",
            "No. of frames: 487\n",
            "No. of frames: 488\n",
            "No. of frames: 489\n",
            "No. of frames: 490\n",
            "No. of frames: 491\n",
            "No. of frames: 492\n",
            "No. of frames: 493\n",
            "No. of frames: 494\n",
            "No. of frames: 495\n",
            "No. of frames: 496\n",
            "No. of frames: 497\n",
            "No. of frames: 498\n",
            "No. of frames: 499\n",
            "No. of frames: 500\n",
            "No. of frames: 501\n"
          ]
        }
      ]
    },
    {
      "cell_type": "code",
      "source": [],
      "metadata": {
        "id": "-Xq0BeRiqQ6i"
      },
      "execution_count": null,
      "outputs": []
    }
  ]
}